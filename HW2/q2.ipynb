{
 "cells": [
  {
   "cell_type": "code",
   "execution_count": 120,
   "metadata": {},
   "outputs": [],
   "source": [
    "%matplotlib inline\n",
    "\n",
    "import matplotlib.pyplot as plt\n",
    "\n",
    "import numpy as np\n",
    "from numpy.random import rand,seed\n",
    "from numpy.linalg import norm"
   ]
  },
  {
   "cell_type": "code",
   "execution_count": 279,
   "metadata": {},
   "outputs": [],
   "source": [
    "seed(314)\n",
    "\n",
    "iterations=1001\n",
    "\n",
    "m=10\n",
    "n=20\n",
    "A=rand(m,n)\n",
    "b=A.dot(rand(n,1))\n",
    "# b=np.squeeze(b)\n",
    "g = lambda x: A.dot(x)+b\n",
    "# gamma = lambda n: 1/np.sqrt(n)\n",
    "lamb0 = np.ones([m,1])"
   ]
  },
  {
   "cell_type": "code",
   "execution_count": 280,
   "metadata": {},
   "outputs": [],
   "source": [
    "def objective_function(x):\n",
    "    return np.sum(-np.sqrt(x),1)"
   ]
  },
  {
   "cell_type": "code",
   "execution_count": 304,
   "metadata": {},
   "outputs": [],
   "source": [
    "def dual_projected_subgradient(lamb,iterations):\n",
    "    x = []\n",
    "#     x_real = []\n",
    "    gamma = []\n",
    "    for k in range(1,iterations+1):\n",
    "        \n",
    "        x_k = np.power((2*lamb.T.dot(A)),-2).T\n",
    "        x.append(x_k)\n",
    "        \n",
    "        gamma.append(1/np.sqrt(k))\n",
    "        \n",
    "        \n",
    "#         x_real.append(full_averaging_sequance(x,mu))\n",
    "        \n",
    "        g_xk = g(x_k)\n",
    "        #add positivity to lambda\n",
    "        lamb = lamb + g_xk/(norm(g_xk,2)*gamma[k-1])\n",
    "        lamb[lamb < 0] = 0\n",
    "    \n",
    "    x = np.squeeze(np.array(x))\n",
    "    \n",
    "    gamma = np.squeeze(np.array(gamma))\n",
    "    \n",
    "    mu = full_averaging_mu(x,gamma)\n",
    "\n",
    "    x_real = full_averaging_sequance(x,mu)\n",
    "\n",
    "    return objective_function(x_real)\n",
    "#     return x_real"
   ]
  },
  {
   "cell_type": "code",
   "execution_count": 307,
   "metadata": {},
   "outputs": [],
   "source": [
    "def partial_averaging_sequance(x,mu): \n",
    "    return x[int(len(x)/2):].dot(mu[int(len(x)/2):])\n",
    "\n",
    "# def full_averaging_sequance(x,mu):\n",
    "#     x = np.squeeze(np.array(x))\n",
    "#     return x.T.dot(mu)\n",
    "\n",
    "\n",
    "def full_averaging_sequance(x,mu):\n",
    "    x_avg = []\n",
    "    for k in range(1,1+len(x)):\n",
    "        x_avg.append(x[:k].T.dot(mu[:k]))\n",
    "        if k%100==1:\n",
    "            print(f'iteration {k}:')\n",
    "            print('checking violations:')\n",
    "            print(f'Ax<b: {sum(sum(A.dot(x_avg[k-1]).T<b))}')\n",
    "            print(f'x>=0: {sum(sum(0<=x))}')\n",
    "        \n",
    "    return np.squeeze(np.array(x_avg))\n",
    "\n",
    "def full_averaging_mu(x,gamma):\n",
    "    mu = []\n",
    "    denominator_sum = 0\n",
    "    for j in range(len(x)):\n",
    "        denominator_sum = denominator_sum + gamma[j]/norm(g(x[j]),2)\n",
    "    \n",
    "    for n in range(len(x)):\n",
    "        mu.append((gamma[n]/norm(g(x[n]),2))/denominator_sum)\n",
    "    \n",
    "    return mu\n",
    "    \n",
    "def partial_averaging_mu(x,gamma):\n",
    "    (gamma_n/np.norm(g(x_n),2))/np.sum(gamma_j/np.norm(g(x_n),2))"
   ]
  },
  {
   "cell_type": "code",
   "execution_count": 308,
   "metadata": {
    "scrolled": false
   },
   "outputs": [
    {
     "name": "stdout",
     "output_type": "stream",
     "text": [
      "iteration 1:\n",
      "checking violations:\n",
      "Ax<b: 100\n",
      "x>=0: 20020\n",
      "iteration 101:\n",
      "checking violations:\n",
      "Ax<b: 100\n",
      "x>=0: 20020\n",
      "iteration 201:\n",
      "checking violations:\n",
      "Ax<b: 100\n",
      "x>=0: 20020\n",
      "iteration 301:\n",
      "checking violations:\n",
      "Ax<b: 100\n",
      "x>=0: 20020\n",
      "iteration 401:\n",
      "checking violations:\n",
      "Ax<b: 100\n",
      "x>=0: 20020\n",
      "iteration 501:\n",
      "checking violations:\n",
      "Ax<b: 100\n",
      "x>=0: 20020\n",
      "iteration 601:\n",
      "checking violations:\n",
      "Ax<b: 100\n",
      "x>=0: 20020\n",
      "iteration 701:\n",
      "checking violations:\n",
      "Ax<b: 100\n",
      "x>=0: 20020\n",
      "iteration 801:\n",
      "checking violations:\n",
      "Ax<b: 100\n",
      "x>=0: 20020\n",
      "iteration 901:\n",
      "checking violations:\n",
      "Ax<b: 100\n",
      "x>=0: 20020\n",
      "iteration 1001:\n",
      "checking violations:\n",
      "Ax<b: 100\n",
      "x>=0: 20020\n"
     ]
    }
   ],
   "source": [
    "x = dual_projected_subgradient(lamb0,iterations)"
   ]
  },
  {
   "cell_type": "code",
   "execution_count": 294,
   "metadata": {},
   "outputs": [
    {
     "name": "stdout",
     "output_type": "stream",
     "text": [
      "(1001,)\n"
     ]
    }
   ],
   "source": [
    "print(x.shape)"
   ]
  },
  {
   "cell_type": "code",
   "execution_count": 232,
   "metadata": {},
   "outputs": [
    {
     "data": {
      "text/plain": [
       "(10,)"
      ]
     },
     "execution_count": 232,
     "metadata": {},
     "output_type": "execute_result"
    }
   ],
   "source": [
    "A.dot(x[101]).shape\n",
    "b.shape\n",
    "# A.dot(x[101])<b"
   ]
  },
  {
   "cell_type": "code",
   "execution_count": 100,
   "metadata": {},
   "outputs": [],
   "source": [
    "xa = np.squeeze(np.array(x))\n",
    "gammaa = np.squeeze(np.array(gamma))"
   ]
  },
  {
   "cell_type": "code",
   "execution_count": 180,
   "metadata": {},
   "outputs": [
    {
     "data": {
      "text/plain": [
       "1001"
      ]
     },
     "execution_count": 180,
     "metadata": {},
     "output_type": "execute_result"
    }
   ],
   "source": [
    "len(x)\n",
    "# gammaa[-1]"
   ]
  },
  {
   "cell_type": "markdown",
   "metadata": {},
   "source": [
    "show information regarding the objective function and the\n",
    "constraint violation on iterations 1,101,201,...,1001). What is the obtained output?"
   ]
  },
  {
   "cell_type": "code",
   "execution_count": 202,
   "metadata": {},
   "outputs": [
    {
     "data": {
      "image/png": "[encoded data removed]",
      "text/plain": [
       "<Figure size 432x288 with 1 Axes>"
      ]
     },
     "metadata": {
      "needs_background": "light"
     },
     "output_type": "display_data"
    }
   ],
   "source": [
    "fig,ax = plt.subplots(1,1)\n",
    "ax.plot(x[-100:-1]);"
   ]
  },
  {
   "cell_type": "code",
   "execution_count": 130,
   "metadata": {},
   "outputs": [],
   "source": [
    "obj_x = np.sum(-np.sqrt(x),1)"
   ]
  },
  {
   "cell_type": "code",
   "execution_count": 131,
   "metadata": {},
   "outputs": [
    {
     "data": {
      "text/plain": [
       "(1001,)"
      ]
     },
     "execution_count": 131,
     "metadata": {},
     "output_type": "execute_result"
    }
   ],
   "source": [
    "obj_x.shape"
   ]
  },
  {
   "cell_type": "code",
   "execution_count": 150,
   "metadata": {},
   "outputs": [
    {
     "data": {
      "text/plain": [
       "(5,)"
      ]
     },
     "execution_count": 150,
     "metadata": {},
     "output_type": "execute_result"
    }
   ],
   "source": [
    "x[:,:5].T.dot(mu).shape"
   ]
  },
  {
   "cell_type": "code",
   "execution_count": 206,
   "metadata": {},
   "outputs": [
    {
     "data": {
      "text/plain": [
       "(1001,)"
      ]
     },
     "execution_count": 206,
     "metadata": {},
     "output_type": "execute_result"
    }
   ],
   "source": [
    "x.shape"
   ]
  },
  {
   "cell_type": "code",
   "execution_count": 205,
   "metadata": {},
   "outputs": [
    {
     "data": {
      "text/plain": [
       "False"
      ]
     },
     "execution_count": 205,
     "metadata": {},
     "output_type": "execute_result"
    }
   ],
   "source": [
    "1==0"
   ]
  },
  {
   "cell_type": "code",
   "execution_count": null,
   "metadata": {},
   "outputs": [],
   "source": [
    "x.s"
   ]
  }
 ],
 "metadata": {
  "kernelspec": {
   "display_name": "Python 3",
   "language": "python",
   "name": "python3"
  },
  "language_info": {
   "codemirror_mode": {
    "name": "ipython",
    "version": 3
   },
   "file_extension": ".py",
   "mimetype": "text/x-python",
   "name": "python",
   "nbconvert_exporter": "python",
   "pygments_lexer": "ipython3",
   "version": "3.7.3"
  }
 },
 "nbformat": 4,
 "nbformat_minor": 2
}
